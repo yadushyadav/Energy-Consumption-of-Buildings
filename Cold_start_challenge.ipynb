{
 "cells": [
  {
   "cell_type": "code",
   "execution_count": 1,
   "metadata": {},
   "outputs": [],
   "source": [
    "# Importing libraries \n",
    "import pandas as pd\n",
    "import numpy as np\n",
    "from datetime import datetime \n",
    "import seaborn as sbn"
   ]
  },
  {
   "cell_type": "code",
   "execution_count": 2,
   "metadata": {},
   "outputs": [],
   "source": [
    "# Storing the datasets in pandas dataframes\n",
    "train = pd.read_csv('/Users/yadushyadav/downloads/consumption_train.csv')\n",
    "meta = pd.read_csv('/Users/yadushyadav/downloads/meta.csv')\n",
    "test = pd.read_csv('/Users/yadushyadav/downloads/cold_start_test.csv')\n",
    "sub = pd.read_csv('/Users/yadushyadav/downloads/submission_format.csv')"
   ]
  },
  {
   "cell_type": "code",
   "execution_count": 3,
   "metadata": {},
   "outputs": [
    {
     "name": "stdout",
     "output_type": "stream",
     "text": [
      "<class 'pandas.core.frame.DataFrame'>\n",
      "RangeIndex: 509376 entries, 0 to 509375\n",
      "Data columns (total 5 columns):\n",
      "Unnamed: 0     509376 non-null int64\n",
      "series_id      509376 non-null int64\n",
      "timestamp      509376 non-null object\n",
      "consumption    509376 non-null float64\n",
      "temperature    280687 non-null float64\n",
      "dtypes: float64(2), int64(2), object(1)\n",
      "memory usage: 19.4+ MB\n"
     ]
    }
   ],
   "source": [
    "train.info()"
   ]
  },
  {
   "cell_type": "code",
   "execution_count": 4,
   "metadata": {},
   "outputs": [
    {
     "name": "stdout",
     "output_type": "stream",
     "text": [
      "<class 'pandas.core.frame.DataFrame'>\n",
      "RangeIndex: 1383 entries, 0 to 1382\n",
      "Data columns (total 10 columns):\n",
      "series_id               1383 non-null int64\n",
      "surface                 1383 non-null object\n",
      "base_temperature        1383 non-null object\n",
      "monday_is_day_off       1383 non-null bool\n",
      "tuesday_is_day_off      1383 non-null bool\n",
      "wednesday_is_day_off    1383 non-null bool\n",
      "thursday_is_day_off     1383 non-null bool\n",
      "friday_is_day_off       1383 non-null bool\n",
      "saturday_is_day_off     1383 non-null bool\n",
      "sunday_is_day_off       1383 non-null bool\n",
      "dtypes: bool(7), int64(1), object(2)\n",
      "memory usage: 41.9+ KB\n"
     ]
    }
   ],
   "source": [
    "meta.info()"
   ]
  },
  {
   "cell_type": "code",
   "execution_count": 5,
   "metadata": {},
   "outputs": [
    {
     "name": "stdout",
     "output_type": "stream",
     "text": [
      "<class 'pandas.core.frame.DataFrame'>\n",
      "RangeIndex: 111984 entries, 0 to 111983\n",
      "Data columns (total 5 columns):\n",
      "Unnamed: 0     111984 non-null int64\n",
      "series_id      111984 non-null int64\n",
      "timestamp      111984 non-null object\n",
      "consumption    111984 non-null float64\n",
      "temperature    67068 non-null float64\n",
      "dtypes: float64(2), int64(2), object(1)\n",
      "memory usage: 4.3+ MB\n"
     ]
    }
   ],
   "source": [
    "test.info()"
   ]
  },
  {
   "cell_type": "code",
   "execution_count": 6,
   "metadata": {},
   "outputs": [
    {
     "name": "stdout",
     "output_type": "stream",
     "text": [
      "<class 'pandas.core.frame.DataFrame'>\n",
      "RangeIndex: 7529 entries, 0 to 7528\n",
      "Data columns (total 6 columns):\n",
      "pred_id              7529 non-null int64\n",
      "series_id            7529 non-null int64\n",
      "timestamp            7529 non-null object\n",
      "temperature          4579 non-null float64\n",
      "consumption          7529 non-null float64\n",
      "prediction_window    7529 non-null object\n",
      "dtypes: float64(2), int64(2), object(2)\n",
      "memory usage: 353.0+ KB\n"
     ]
    }
   ],
   "source": [
    "sub.info()"
   ]
  },
  {
   "cell_type": "code",
   "execution_count": 7,
   "metadata": {},
   "outputs": [
    {
     "name": "stdout",
     "output_type": "stream",
     "text": [
      "758\n",
      "1383\n",
      "625\n",
      "625\n"
     ]
    }
   ],
   "source": [
    "print(len(train['series_id'].unique()))\n",
    "print(len(meta['series_id'].unique()))\n",
    "print(len(test['series_id'].unique()))\n",
    "print(len(sub['series_id'].unique()))"
   ]
  },
  {
   "cell_type": "code",
   "execution_count": 8,
   "metadata": {},
   "outputs": [
    {
     "data": {
      "text/html": [
       "<div>\n",
       "<style scoped>\n",
       "    .dataframe tbody tr th:only-of-type {\n",
       "        vertical-align: middle;\n",
       "    }\n",
       "\n",
       "    .dataframe tbody tr th {\n",
       "        vertical-align: top;\n",
       "    }\n",
       "\n",
       "    .dataframe thead th {\n",
       "        text-align: right;\n",
       "    }\n",
       "</style>\n",
       "<table border=\"1\" class=\"dataframe\">\n",
       "  <thead>\n",
       "    <tr style=\"text-align: right;\">\n",
       "      <th></th>\n",
       "      <th>Unnamed: 0</th>\n",
       "      <th>series_id</th>\n",
       "      <th>timestamp</th>\n",
       "      <th>consumption</th>\n",
       "      <th>temperature</th>\n",
       "    </tr>\n",
       "  </thead>\n",
       "  <tbody>\n",
       "    <tr>\n",
       "      <th>0</th>\n",
       "      <td>0</td>\n",
       "      <td>103088</td>\n",
       "      <td>2014-12-24 00:00:00</td>\n",
       "      <td>101842.233424</td>\n",
       "      <td>NaN</td>\n",
       "    </tr>\n",
       "    <tr>\n",
       "      <th>1</th>\n",
       "      <td>1</td>\n",
       "      <td>103088</td>\n",
       "      <td>2014-12-24 01:00:00</td>\n",
       "      <td>105878.048906</td>\n",
       "      <td>NaN</td>\n",
       "    </tr>\n",
       "    <tr>\n",
       "      <th>2</th>\n",
       "      <td>2</td>\n",
       "      <td>103088</td>\n",
       "      <td>2014-12-24 02:00:00</td>\n",
       "      <td>91619.105008</td>\n",
       "      <td>NaN</td>\n",
       "    </tr>\n",
       "    <tr>\n",
       "      <th>3</th>\n",
       "      <td>3</td>\n",
       "      <td>103088</td>\n",
       "      <td>2014-12-24 03:00:00</td>\n",
       "      <td>94473.706203</td>\n",
       "      <td>NaN</td>\n",
       "    </tr>\n",
       "    <tr>\n",
       "      <th>4</th>\n",
       "      <td>4</td>\n",
       "      <td>103088</td>\n",
       "      <td>2014-12-24 04:00:00</td>\n",
       "      <td>96976.755526</td>\n",
       "      <td>NaN</td>\n",
       "    </tr>\n",
       "  </tbody>\n",
       "</table>\n",
       "</div>"
      ],
      "text/plain": [
       "   Unnamed: 0  series_id            timestamp    consumption  temperature\n",
       "0           0     103088  2014-12-24 00:00:00  101842.233424          NaN\n",
       "1           1     103088  2014-12-24 01:00:00  105878.048906          NaN\n",
       "2           2     103088  2014-12-24 02:00:00   91619.105008          NaN\n",
       "3           3     103088  2014-12-24 03:00:00   94473.706203          NaN\n",
       "4           4     103088  2014-12-24 04:00:00   96976.755526          NaN"
      ]
     },
     "execution_count": 8,
     "metadata": {},
     "output_type": "execute_result"
    }
   ],
   "source": [
    "train.head()"
   ]
  },
  {
   "cell_type": "code",
   "execution_count": 9,
   "metadata": {},
   "outputs": [
    {
     "data": {
      "text/html": [
       "<div>\n",
       "<style scoped>\n",
       "    .dataframe tbody tr th:only-of-type {\n",
       "        vertical-align: middle;\n",
       "    }\n",
       "\n",
       "    .dataframe tbody tr th {\n",
       "        vertical-align: top;\n",
       "    }\n",
       "\n",
       "    .dataframe thead th {\n",
       "        text-align: right;\n",
       "    }\n",
       "</style>\n",
       "<table border=\"1\" class=\"dataframe\">\n",
       "  <thead>\n",
       "    <tr style=\"text-align: right;\">\n",
       "      <th></th>\n",
       "      <th>series_id</th>\n",
       "      <th>surface</th>\n",
       "      <th>base_temperature</th>\n",
       "      <th>monday_is_day_off</th>\n",
       "      <th>tuesday_is_day_off</th>\n",
       "      <th>wednesday_is_day_off</th>\n",
       "      <th>thursday_is_day_off</th>\n",
       "      <th>friday_is_day_off</th>\n",
       "      <th>saturday_is_day_off</th>\n",
       "      <th>sunday_is_day_off</th>\n",
       "    </tr>\n",
       "  </thead>\n",
       "  <tbody>\n",
       "    <tr>\n",
       "      <th>0</th>\n",
       "      <td>100003</td>\n",
       "      <td>x-large</td>\n",
       "      <td>low</td>\n",
       "      <td>False</td>\n",
       "      <td>False</td>\n",
       "      <td>False</td>\n",
       "      <td>False</td>\n",
       "      <td>False</td>\n",
       "      <td>True</td>\n",
       "      <td>True</td>\n",
       "    </tr>\n",
       "    <tr>\n",
       "      <th>1</th>\n",
       "      <td>100004</td>\n",
       "      <td>x-large</td>\n",
       "      <td>low</td>\n",
       "      <td>False</td>\n",
       "      <td>False</td>\n",
       "      <td>False</td>\n",
       "      <td>False</td>\n",
       "      <td>False</td>\n",
       "      <td>True</td>\n",
       "      <td>True</td>\n",
       "    </tr>\n",
       "    <tr>\n",
       "      <th>2</th>\n",
       "      <td>100006</td>\n",
       "      <td>x-small</td>\n",
       "      <td>low</td>\n",
       "      <td>False</td>\n",
       "      <td>False</td>\n",
       "      <td>False</td>\n",
       "      <td>False</td>\n",
       "      <td>False</td>\n",
       "      <td>True</td>\n",
       "      <td>True</td>\n",
       "    </tr>\n",
       "    <tr>\n",
       "      <th>3</th>\n",
       "      <td>100008</td>\n",
       "      <td>x-small</td>\n",
       "      <td>low</td>\n",
       "      <td>False</td>\n",
       "      <td>False</td>\n",
       "      <td>False</td>\n",
       "      <td>False</td>\n",
       "      <td>False</td>\n",
       "      <td>True</td>\n",
       "      <td>True</td>\n",
       "    </tr>\n",
       "    <tr>\n",
       "      <th>4</th>\n",
       "      <td>100010</td>\n",
       "      <td>x-small</td>\n",
       "      <td>low</td>\n",
       "      <td>False</td>\n",
       "      <td>False</td>\n",
       "      <td>False</td>\n",
       "      <td>False</td>\n",
       "      <td>False</td>\n",
       "      <td>True</td>\n",
       "      <td>True</td>\n",
       "    </tr>\n",
       "  </tbody>\n",
       "</table>\n",
       "</div>"
      ],
      "text/plain": [
       "   series_id  surface base_temperature  monday_is_day_off  tuesday_is_day_off  \\\n",
       "0     100003  x-large              low              False               False   \n",
       "1     100004  x-large              low              False               False   \n",
       "2     100006  x-small              low              False               False   \n",
       "3     100008  x-small              low              False               False   \n",
       "4     100010  x-small              low              False               False   \n",
       "\n",
       "   wednesday_is_day_off  thursday_is_day_off  friday_is_day_off  \\\n",
       "0                 False                False              False   \n",
       "1                 False                False              False   \n",
       "2                 False                False              False   \n",
       "3                 False                False              False   \n",
       "4                 False                False              False   \n",
       "\n",
       "   saturday_is_day_off  sunday_is_day_off  \n",
       "0                 True               True  \n",
       "1                 True               True  \n",
       "2                 True               True  \n",
       "3                 True               True  \n",
       "4                 True               True  "
      ]
     },
     "execution_count": 9,
     "metadata": {},
     "output_type": "execute_result"
    }
   ],
   "source": [
    "meta.head()"
   ]
  },
  {
   "cell_type": "code",
   "execution_count": 10,
   "metadata": {},
   "outputs": [
    {
     "data": {
      "text/html": [
       "<div>\n",
       "<style scoped>\n",
       "    .dataframe tbody tr th:only-of-type {\n",
       "        vertical-align: middle;\n",
       "    }\n",
       "\n",
       "    .dataframe tbody tr th {\n",
       "        vertical-align: top;\n",
       "    }\n",
       "\n",
       "    .dataframe thead th {\n",
       "        text-align: right;\n",
       "    }\n",
       "</style>\n",
       "<table border=\"1\" class=\"dataframe\">\n",
       "  <thead>\n",
       "    <tr style=\"text-align: right;\">\n",
       "      <th></th>\n",
       "      <th>Unnamed: 0</th>\n",
       "      <th>series_id</th>\n",
       "      <th>timestamp</th>\n",
       "      <th>consumption</th>\n",
       "      <th>temperature</th>\n",
       "    </tr>\n",
       "  </thead>\n",
       "  <tbody>\n",
       "    <tr>\n",
       "      <th>0</th>\n",
       "      <td>0</td>\n",
       "      <td>102781</td>\n",
       "      <td>2013-02-27 00:00:00</td>\n",
       "      <td>15295.740389</td>\n",
       "      <td>17.00</td>\n",
       "    </tr>\n",
       "    <tr>\n",
       "      <th>1</th>\n",
       "      <td>1</td>\n",
       "      <td>102781</td>\n",
       "      <td>2013-02-27 01:00:00</td>\n",
       "      <td>15163.209562</td>\n",
       "      <td>18.25</td>\n",
       "    </tr>\n",
       "    <tr>\n",
       "      <th>2</th>\n",
       "      <td>2</td>\n",
       "      <td>102781</td>\n",
       "      <td>2013-02-27 02:00:00</td>\n",
       "      <td>15022.264079</td>\n",
       "      <td>18.00</td>\n",
       "    </tr>\n",
       "    <tr>\n",
       "      <th>3</th>\n",
       "      <td>3</td>\n",
       "      <td>102781</td>\n",
       "      <td>2013-02-27 03:00:00</td>\n",
       "      <td>15370.420458</td>\n",
       "      <td>17.00</td>\n",
       "    </tr>\n",
       "    <tr>\n",
       "      <th>4</th>\n",
       "      <td>4</td>\n",
       "      <td>102781</td>\n",
       "      <td>2013-02-27 04:00:00</td>\n",
       "      <td>15303.103213</td>\n",
       "      <td>16.90</td>\n",
       "    </tr>\n",
       "  </tbody>\n",
       "</table>\n",
       "</div>"
      ],
      "text/plain": [
       "   Unnamed: 0  series_id            timestamp   consumption  temperature\n",
       "0           0     102781  2013-02-27 00:00:00  15295.740389        17.00\n",
       "1           1     102781  2013-02-27 01:00:00  15163.209562        18.25\n",
       "2           2     102781  2013-02-27 02:00:00  15022.264079        18.00\n",
       "3           3     102781  2013-02-27 03:00:00  15370.420458        17.00\n",
       "4           4     102781  2013-02-27 04:00:00  15303.103213        16.90"
      ]
     },
     "execution_count": 10,
     "metadata": {},
     "output_type": "execute_result"
    }
   ],
   "source": [
    "test.head()"
   ]
  },
  {
   "cell_type": "code",
   "execution_count": 11,
   "metadata": {},
   "outputs": [],
   "source": [
    "# Combining the train and meta dataframes based on 'series_id'\n",
    "df = pd.merge(train,meta,on='series_id')"
   ]
  },
  {
   "cell_type": "code",
   "execution_count": 12,
   "metadata": {},
   "outputs": [
    {
     "name": "stdout",
     "output_type": "stream",
     "text": [
      "<class 'pandas.core.frame.DataFrame'>\n",
      "Int64Index: 509376 entries, 0 to 509375\n",
      "Data columns (total 14 columns):\n",
      "Unnamed: 0              509376 non-null int64\n",
      "series_id               509376 non-null int64\n",
      "timestamp               509376 non-null object\n",
      "consumption             509376 non-null float64\n",
      "temperature             280687 non-null float64\n",
      "surface                 509376 non-null object\n",
      "base_temperature        509376 non-null object\n",
      "monday_is_day_off       509376 non-null bool\n",
      "tuesday_is_day_off      509376 non-null bool\n",
      "wednesday_is_day_off    509376 non-null bool\n",
      "thursday_is_day_off     509376 non-null bool\n",
      "friday_is_day_off       509376 non-null bool\n",
      "saturday_is_day_off     509376 non-null bool\n",
      "sunday_is_day_off       509376 non-null bool\n",
      "dtypes: bool(7), float64(2), int64(2), object(3)\n",
      "memory usage: 34.5+ MB\n"
     ]
    }
   ],
   "source": [
    "df.info()"
   ]
  },
  {
   "cell_type": "code",
   "execution_count": 13,
   "metadata": {},
   "outputs": [],
   "source": [
    "# Converting object type to datetime type\n",
    "df['timestamp'] = pd.to_datetime(df['timestamp'])"
   ]
  },
  {
   "cell_type": "code",
   "execution_count": 14,
   "metadata": {},
   "outputs": [
    {
     "data": {
      "text/html": [
       "<div>\n",
       "<style scoped>\n",
       "    .dataframe tbody tr th:only-of-type {\n",
       "        vertical-align: middle;\n",
       "    }\n",
       "\n",
       "    .dataframe tbody tr th {\n",
       "        vertical-align: top;\n",
       "    }\n",
       "\n",
       "    .dataframe thead th {\n",
       "        text-align: right;\n",
       "    }\n",
       "</style>\n",
       "<table border=\"1\" class=\"dataframe\">\n",
       "  <thead>\n",
       "    <tr style=\"text-align: right;\">\n",
       "      <th></th>\n",
       "      <th>Unnamed: 0</th>\n",
       "      <th>series_id</th>\n",
       "      <th>timestamp</th>\n",
       "      <th>consumption</th>\n",
       "      <th>temperature</th>\n",
       "      <th>surface</th>\n",
       "      <th>base_temperature</th>\n",
       "      <th>monday_is_day_off</th>\n",
       "      <th>tuesday_is_day_off</th>\n",
       "      <th>wednesday_is_day_off</th>\n",
       "      <th>thursday_is_day_off</th>\n",
       "      <th>friday_is_day_off</th>\n",
       "      <th>saturday_is_day_off</th>\n",
       "      <th>sunday_is_day_off</th>\n",
       "    </tr>\n",
       "  </thead>\n",
       "  <tbody>\n",
       "    <tr>\n",
       "      <th>0</th>\n",
       "      <td>0</td>\n",
       "      <td>103088</td>\n",
       "      <td>2014-12-24 00:00:00</td>\n",
       "      <td>101842.233424</td>\n",
       "      <td>NaN</td>\n",
       "      <td>x-small</td>\n",
       "      <td>low</td>\n",
       "      <td>False</td>\n",
       "      <td>False</td>\n",
       "      <td>False</td>\n",
       "      <td>False</td>\n",
       "      <td>False</td>\n",
       "      <td>True</td>\n",
       "      <td>True</td>\n",
       "    </tr>\n",
       "    <tr>\n",
       "      <th>1</th>\n",
       "      <td>1</td>\n",
       "      <td>103088</td>\n",
       "      <td>2014-12-24 01:00:00</td>\n",
       "      <td>105878.048906</td>\n",
       "      <td>NaN</td>\n",
       "      <td>x-small</td>\n",
       "      <td>low</td>\n",
       "      <td>False</td>\n",
       "      <td>False</td>\n",
       "      <td>False</td>\n",
       "      <td>False</td>\n",
       "      <td>False</td>\n",
       "      <td>True</td>\n",
       "      <td>True</td>\n",
       "    </tr>\n",
       "    <tr>\n",
       "      <th>2</th>\n",
       "      <td>2</td>\n",
       "      <td>103088</td>\n",
       "      <td>2014-12-24 02:00:00</td>\n",
       "      <td>91619.105008</td>\n",
       "      <td>NaN</td>\n",
       "      <td>x-small</td>\n",
       "      <td>low</td>\n",
       "      <td>False</td>\n",
       "      <td>False</td>\n",
       "      <td>False</td>\n",
       "      <td>False</td>\n",
       "      <td>False</td>\n",
       "      <td>True</td>\n",
       "      <td>True</td>\n",
       "    </tr>\n",
       "    <tr>\n",
       "      <th>3</th>\n",
       "      <td>3</td>\n",
       "      <td>103088</td>\n",
       "      <td>2014-12-24 03:00:00</td>\n",
       "      <td>94473.706203</td>\n",
       "      <td>NaN</td>\n",
       "      <td>x-small</td>\n",
       "      <td>low</td>\n",
       "      <td>False</td>\n",
       "      <td>False</td>\n",
       "      <td>False</td>\n",
       "      <td>False</td>\n",
       "      <td>False</td>\n",
       "      <td>True</td>\n",
       "      <td>True</td>\n",
       "    </tr>\n",
       "    <tr>\n",
       "      <th>4</th>\n",
       "      <td>4</td>\n",
       "      <td>103088</td>\n",
       "      <td>2014-12-24 04:00:00</td>\n",
       "      <td>96976.755526</td>\n",
       "      <td>NaN</td>\n",
       "      <td>x-small</td>\n",
       "      <td>low</td>\n",
       "      <td>False</td>\n",
       "      <td>False</td>\n",
       "      <td>False</td>\n",
       "      <td>False</td>\n",
       "      <td>False</td>\n",
       "      <td>True</td>\n",
       "      <td>True</td>\n",
       "    </tr>\n",
       "  </tbody>\n",
       "</table>\n",
       "</div>"
      ],
      "text/plain": [
       "   Unnamed: 0  series_id           timestamp    consumption  temperature  \\\n",
       "0           0     103088 2014-12-24 00:00:00  101842.233424          NaN   \n",
       "1           1     103088 2014-12-24 01:00:00  105878.048906          NaN   \n",
       "2           2     103088 2014-12-24 02:00:00   91619.105008          NaN   \n",
       "3           3     103088 2014-12-24 03:00:00   94473.706203          NaN   \n",
       "4           4     103088 2014-12-24 04:00:00   96976.755526          NaN   \n",
       "\n",
       "   surface base_temperature  monday_is_day_off  tuesday_is_day_off  \\\n",
       "0  x-small              low              False               False   \n",
       "1  x-small              low              False               False   \n",
       "2  x-small              low              False               False   \n",
       "3  x-small              low              False               False   \n",
       "4  x-small              low              False               False   \n",
       "\n",
       "   wednesday_is_day_off  thursday_is_day_off  friday_is_day_off  \\\n",
       "0                 False                False              False   \n",
       "1                 False                False              False   \n",
       "2                 False                False              False   \n",
       "3                 False                False              False   \n",
       "4                 False                False              False   \n",
       "\n",
       "   saturday_is_day_off  sunday_is_day_off  \n",
       "0                 True               True  \n",
       "1                 True               True  \n",
       "2                 True               True  \n",
       "3                 True               True  \n",
       "4                 True               True  "
      ]
     },
     "execution_count": 14,
     "metadata": {},
     "output_type": "execute_result"
    }
   ],
   "source": [
    "df.head()"
   ]
  },
  {
   "cell_type": "code",
   "execution_count": 15,
   "metadata": {},
   "outputs": [
    {
     "data": {
      "text/plain": [
       "Timestamp('2017-12-29 23:00:00')"
      ]
     },
     "execution_count": 15,
     "metadata": {},
     "output_type": "execute_result"
    }
   ],
   "source": [
    "df['timestamp'].max()"
   ]
  },
  {
   "cell_type": "code",
   "execution_count": 16,
   "metadata": {},
   "outputs": [],
   "source": [
    "df['hour'] = df['timestamp'].dt.hour\n",
    "df['year'] = df['timestamp'].dt.year\n",
    "df['month'] = df['timestamp'].dt.month\n",
    "df['day'] = df['timestamp'].dt.day"
   ]
  },
  {
   "cell_type": "code",
   "execution_count": 17,
   "metadata": {},
   "outputs": [],
   "source": [
    "sr = (df.groupby(['series_id'],sort=False).min()['timestamp']).to_frame().reset_index()"
   ]
  },
  {
   "cell_type": "code",
   "execution_count": 18,
   "metadata": {},
   "outputs": [],
   "source": [
    "# First timestamp for each 'series_id'\n",
    "dt = (df.groupby(['series_id'],sort=False).min()['timestamp']).to_dict()"
   ]
  },
  {
   "cell_type": "code",
   "execution_count": 19,
   "metadata": {},
   "outputs": [],
   "source": [
    "# 'hour2' contains the difference between first timestamp of 'series_id' and the current one in hours\n",
    "\n",
    "#temp = datetime(1970,1,1,0,0,0)\n",
    "\n",
    "def func(x):\n",
    "    return (x['timestamp']-dt[x['series_id']]).total_seconds()/3600\n",
    "    \n",
    "df['hour2'] = df.apply(lambda x: func(x),axis=1)\n",
    "\n",
    "#df[['series_id','hour','hour2']].head(50)"
   ]
  },
  {
   "cell_type": "code",
   "execution_count": 20,
   "metadata": {},
   "outputs": [
    {
     "name": "stdout",
     "output_type": "stream",
     "text": [
      "<class 'pandas.core.frame.DataFrame'>\n",
      "Int64Index: 509376 entries, 0 to 509375\n",
      "Data columns (total 19 columns):\n",
      "Unnamed: 0              509376 non-null int64\n",
      "series_id               509376 non-null int64\n",
      "timestamp               509376 non-null datetime64[ns]\n",
      "consumption             509376 non-null float64\n",
      "temperature             280687 non-null float64\n",
      "surface                 509376 non-null object\n",
      "base_temperature        509376 non-null object\n",
      "monday_is_day_off       509376 non-null bool\n",
      "tuesday_is_day_off      509376 non-null bool\n",
      "wednesday_is_day_off    509376 non-null bool\n",
      "thursday_is_day_off     509376 non-null bool\n",
      "friday_is_day_off       509376 non-null bool\n",
      "saturday_is_day_off     509376 non-null bool\n",
      "sunday_is_day_off       509376 non-null bool\n",
      "hour                    509376 non-null int64\n",
      "year                    509376 non-null int64\n",
      "month                   509376 non-null int64\n",
      "day                     509376 non-null int64\n",
      "hour2                   509376 non-null float64\n",
      "dtypes: bool(7), datetime64[ns](1), float64(3), int64(6), object(2)\n",
      "memory usage: 73.9+ MB\n"
     ]
    }
   ],
   "source": [
    "df.info()"
   ]
  },
  {
   "cell_type": "code",
   "execution_count": 21,
   "metadata": {},
   "outputs": [
    {
     "name": "stdout",
     "output_type": "stream",
     "text": [
      "-13.466666666666667 44.35\n"
     ]
    }
   ],
   "source": [
    "print(df['temperature'].min(),df['temperature'].max())"
   ]
  },
  {
   "cell_type": "code",
   "execution_count": 22,
   "metadata": {},
   "outputs": [],
   "source": [
    "# Converting object type to int type\n",
    "df['base_temperature'] = df['base_temperature'].replace(['low','high'],[0,1])"
   ]
  },
  {
   "cell_type": "code",
   "execution_count": 23,
   "metadata": {},
   "outputs": [
    {
     "data": {
      "text/plain": [
       "0.1308318434371858"
      ]
     },
     "execution_count": 23,
     "metadata": {},
     "output_type": "execute_result"
    }
   ],
   "source": [
    "# Correlation between 'temperature' and 'base_temperature'\n",
    "df['temperature'].corr(df['base_temperature'])"
   ]
  },
  {
   "cell_type": "code",
   "execution_count": 24,
   "metadata": {},
   "outputs": [
    {
     "data": {
      "text/plain": [
       "small        51072\n",
       "x-small     113568\n",
       "medium       59136\n",
       "large        35616\n",
       "x-large     146496\n",
       "xx-large     39648\n",
       "xx-small     63840\n",
       "Name: surface, dtype: int64"
      ]
     },
     "execution_count": 24,
     "metadata": {},
     "output_type": "execute_result"
    }
   ],
   "source": [
    "df['surface'].value_counts(sort=False)"
   ]
  },
  {
   "cell_type": "code",
   "execution_count": 25,
   "metadata": {},
   "outputs": [],
   "source": [
    "# Converting object type to int type\n",
    "df['surface'] = df['surface'].replace(['xx-large','x-large','large','medium','small','x-small','xx-small'],[6,5,4,3,2,1,0])"
   ]
  },
  {
   "cell_type": "code",
   "execution_count": 26,
   "metadata": {},
   "outputs": [
    {
     "data": {
      "text/plain": [
       "<matplotlib.axes._subplots.AxesSubplot at 0x1a13c5df60>"
      ]
     },
     "execution_count": 26,
     "metadata": {},
     "output_type": "execute_result"
    },
    {
     "data": {
      "image/png": "[encoded data removed]",
      "text/plain": [
       "<Figure size 432x288 with 1 Axes>"
      ]
     },
     "metadata": {},
     "output_type": "display_data"
    }
   ],
   "source": [
    "# The boxplot shows low 'base_temperature' indicates lower 'temperature' and vice versa\n",
    "sbn.boxplot(df['base_temperature'],df['temperature'])"
   ]
  },
  {
   "cell_type": "code",
   "execution_count": 27,
   "metadata": {},
   "outputs": [],
   "source": [
    "# Filling NaN values in 'temperature' using median of 'base_temperature'\n",
    "df0 = df[df['base_temperature']==0]\n",
    "df1 = df[df['base_temperature']==1]\n",
    "\n",
    "base0 = df0['temperature'].median()\n",
    "base1 = df1['temperature'].median()\n",
    "\n",
    "def filltemp(x):\n",
    "    if pd.isnull(x['temperature']):\n",
    "        if x['base_temperature'] == 0:\n",
    "            x['temperature'] = base0\n",
    "        else:\n",
    "            x['temperature'] = base1\n",
    "    return x\n",
    "\n",
    "df = df.apply(lambda x: filltemp(x), axis=1)"
   ]
  },
  {
   "cell_type": "code",
   "execution_count": 28,
   "metadata": {},
   "outputs": [
    {
     "data": {
      "text/html": [
       "<div>\n",
       "<style scoped>\n",
       "    .dataframe tbody tr th:only-of-type {\n",
       "        vertical-align: middle;\n",
       "    }\n",
       "\n",
       "    .dataframe tbody tr th {\n",
       "        vertical-align: top;\n",
       "    }\n",
       "\n",
       "    .dataframe thead th {\n",
       "        text-align: right;\n",
       "    }\n",
       "</style>\n",
       "<table border=\"1\" class=\"dataframe\">\n",
       "  <thead>\n",
       "    <tr style=\"text-align: right;\">\n",
       "      <th></th>\n",
       "      <th>Unnamed: 0</th>\n",
       "      <th>series_id</th>\n",
       "      <th>timestamp</th>\n",
       "      <th>consumption</th>\n",
       "      <th>temperature</th>\n",
       "      <th>surface</th>\n",
       "      <th>base_temperature</th>\n",
       "      <th>monday_is_day_off</th>\n",
       "      <th>tuesday_is_day_off</th>\n",
       "      <th>wednesday_is_day_off</th>\n",
       "      <th>thursday_is_day_off</th>\n",
       "      <th>friday_is_day_off</th>\n",
       "      <th>saturday_is_day_off</th>\n",
       "      <th>sunday_is_day_off</th>\n",
       "      <th>hour</th>\n",
       "      <th>year</th>\n",
       "      <th>month</th>\n",
       "      <th>day</th>\n",
       "      <th>hour2</th>\n",
       "    </tr>\n",
       "  </thead>\n",
       "  <tbody>\n",
       "    <tr>\n",
       "      <th>509371</th>\n",
       "      <td>509371</td>\n",
       "      <td>103582</td>\n",
       "      <td>2017-12-18 19:00:00</td>\n",
       "      <td>99445.639414</td>\n",
       "      <td>15.0</td>\n",
       "      <td>3</td>\n",
       "      <td>0</td>\n",
       "      <td>False</td>\n",
       "      <td>False</td>\n",
       "      <td>False</td>\n",
       "      <td>False</td>\n",
       "      <td>False</td>\n",
       "      <td>True</td>\n",
       "      <td>True</td>\n",
       "      <td>19</td>\n",
       "      <td>2017</td>\n",
       "      <td>12</td>\n",
       "      <td>18</td>\n",
       "      <td>667.0</td>\n",
       "    </tr>\n",
       "    <tr>\n",
       "      <th>509372</th>\n",
       "      <td>509372</td>\n",
       "      <td>103582</td>\n",
       "      <td>2017-12-18 20:00:00</td>\n",
       "      <td>11604.814821</td>\n",
       "      <td>15.0</td>\n",
       "      <td>3</td>\n",
       "      <td>0</td>\n",
       "      <td>False</td>\n",
       "      <td>False</td>\n",
       "      <td>False</td>\n",
       "      <td>False</td>\n",
       "      <td>False</td>\n",
       "      <td>True</td>\n",
       "      <td>True</td>\n",
       "      <td>20</td>\n",
       "      <td>2017</td>\n",
       "      <td>12</td>\n",
       "      <td>18</td>\n",
       "      <td>668.0</td>\n",
       "    </tr>\n",
       "    <tr>\n",
       "      <th>509373</th>\n",
       "      <td>509373</td>\n",
       "      <td>103582</td>\n",
       "      <td>2017-12-18 21:00:00</td>\n",
       "      <td>10823.631017</td>\n",
       "      <td>15.0</td>\n",
       "      <td>3</td>\n",
       "      <td>0</td>\n",
       "      <td>False</td>\n",
       "      <td>False</td>\n",
       "      <td>False</td>\n",
       "      <td>False</td>\n",
       "      <td>False</td>\n",
       "      <td>True</td>\n",
       "      <td>True</td>\n",
       "      <td>21</td>\n",
       "      <td>2017</td>\n",
       "      <td>12</td>\n",
       "      <td>18</td>\n",
       "      <td>669.0</td>\n",
       "    </tr>\n",
       "    <tr>\n",
       "      <th>509374</th>\n",
       "      <td>509374</td>\n",
       "      <td>103582</td>\n",
       "      <td>2017-12-18 22:00:00</td>\n",
       "      <td>10273.037613</td>\n",
       "      <td>15.0</td>\n",
       "      <td>3</td>\n",
       "      <td>0</td>\n",
       "      <td>False</td>\n",
       "      <td>False</td>\n",
       "      <td>False</td>\n",
       "      <td>False</td>\n",
       "      <td>False</td>\n",
       "      <td>True</td>\n",
       "      <td>True</td>\n",
       "      <td>22</td>\n",
       "      <td>2017</td>\n",
       "      <td>12</td>\n",
       "      <td>18</td>\n",
       "      <td>670.0</td>\n",
       "    </tr>\n",
       "    <tr>\n",
       "      <th>509375</th>\n",
       "      <td>509375</td>\n",
       "      <td>103582</td>\n",
       "      <td>2017-12-18 23:00:00</td>\n",
       "      <td>8993.025597</td>\n",
       "      <td>15.0</td>\n",
       "      <td>3</td>\n",
       "      <td>0</td>\n",
       "      <td>False</td>\n",
       "      <td>False</td>\n",
       "      <td>False</td>\n",
       "      <td>False</td>\n",
       "      <td>False</td>\n",
       "      <td>True</td>\n",
       "      <td>True</td>\n",
       "      <td>23</td>\n",
       "      <td>2017</td>\n",
       "      <td>12</td>\n",
       "      <td>18</td>\n",
       "      <td>671.0</td>\n",
       "    </tr>\n",
       "  </tbody>\n",
       "</table>\n",
       "</div>"
      ],
      "text/plain": [
       "        Unnamed: 0  series_id           timestamp   consumption  temperature  \\\n",
       "509371      509371     103582 2017-12-18 19:00:00  99445.639414         15.0   \n",
       "509372      509372     103582 2017-12-18 20:00:00  11604.814821         15.0   \n",
       "509373      509373     103582 2017-12-18 21:00:00  10823.631017         15.0   \n",
       "509374      509374     103582 2017-12-18 22:00:00  10273.037613         15.0   \n",
       "509375      509375     103582 2017-12-18 23:00:00   8993.025597         15.0   \n",
       "\n",
       "        surface  base_temperature  monday_is_day_off  tuesday_is_day_off  \\\n",
       "509371        3                 0              False               False   \n",
       "509372        3                 0              False               False   \n",
       "509373        3                 0              False               False   \n",
       "509374        3                 0              False               False   \n",
       "509375        3                 0              False               False   \n",
       "\n",
       "        wednesday_is_day_off  thursday_is_day_off  friday_is_day_off  \\\n",
       "509371                 False                False              False   \n",
       "509372                 False                False              False   \n",
       "509373                 False                False              False   \n",
       "509374                 False                False              False   \n",
       "509375                 False                False              False   \n",
       "\n",
       "        saturday_is_day_off  sunday_is_day_off  hour  year  month  day  hour2  \n",
       "509371                 True               True    19  2017     12   18  667.0  \n",
       "509372                 True               True    20  2017     12   18  668.0  \n",
       "509373                 True               True    21  2017     12   18  669.0  \n",
       "509374                 True               True    22  2017     12   18  670.0  \n",
       "509375                 True               True    23  2017     12   18  671.0  "
      ]
     },
     "execution_count": 28,
     "metadata": {},
     "output_type": "execute_result"
    }
   ],
   "source": [
    "df.tail()"
   ]
  },
  {
   "cell_type": "code",
   "execution_count": 29,
   "metadata": {},
   "outputs": [
    {
     "name": "stdout",
     "output_type": "stream",
     "text": [
      "<class 'pandas.core.frame.DataFrame'>\n",
      "Int64Index: 509376 entries, 0 to 509375\n",
      "Data columns (total 19 columns):\n",
      "Unnamed: 0              509376 non-null int64\n",
      "series_id               509376 non-null int64\n",
      "timestamp               509376 non-null datetime64[ns]\n",
      "consumption             509376 non-null float64\n",
      "temperature             509376 non-null float64\n",
      "surface                 509376 non-null int64\n",
      "base_temperature        509376 non-null int64\n",
      "monday_is_day_off       509376 non-null bool\n",
      "tuesday_is_day_off      509376 non-null bool\n",
      "wednesday_is_day_off    509376 non-null bool\n",
      "thursday_is_day_off     509376 non-null bool\n",
      "friday_is_day_off       509376 non-null bool\n",
      "saturday_is_day_off     509376 non-null bool\n",
      "sunday_is_day_off       509376 non-null bool\n",
      "hour                    509376 non-null int64\n",
      "year                    509376 non-null int64\n",
      "month                   509376 non-null int64\n",
      "day                     509376 non-null int64\n",
      "hour2                   509376 non-null float64\n",
      "dtypes: bool(7), datetime64[ns](1), float64(3), int64(8)\n",
      "memory usage: 73.9 MB\n"
     ]
    }
   ],
   "source": [
    "df.info()"
   ]
  },
  {
   "cell_type": "code",
   "execution_count": 30,
   "metadata": {},
   "outputs": [
    {
     "data": {
      "text/html": [
       "<div>\n",
       "<style scoped>\n",
       "    .dataframe tbody tr th:only-of-type {\n",
       "        vertical-align: middle;\n",
       "    }\n",
       "\n",
       "    .dataframe tbody tr th {\n",
       "        vertical-align: top;\n",
       "    }\n",
       "\n",
       "    .dataframe thead th {\n",
       "        text-align: right;\n",
       "    }\n",
       "</style>\n",
       "<table border=\"1\" class=\"dataframe\">\n",
       "  <thead>\n",
       "    <tr style=\"text-align: right;\">\n",
       "      <th></th>\n",
       "      <th>Unnamed: 0</th>\n",
       "      <th>series_id</th>\n",
       "      <th>timestamp</th>\n",
       "      <th>consumption</th>\n",
       "      <th>temperature</th>\n",
       "    </tr>\n",
       "  </thead>\n",
       "  <tbody>\n",
       "    <tr>\n",
       "      <th>0</th>\n",
       "      <td>0</td>\n",
       "      <td>102781</td>\n",
       "      <td>2013-02-27 00:00:00</td>\n",
       "      <td>15295.740389</td>\n",
       "      <td>17.00</td>\n",
       "    </tr>\n",
       "    <tr>\n",
       "      <th>1</th>\n",
       "      <td>1</td>\n",
       "      <td>102781</td>\n",
       "      <td>2013-02-27 01:00:00</td>\n",
       "      <td>15163.209562</td>\n",
       "      <td>18.25</td>\n",
       "    </tr>\n",
       "    <tr>\n",
       "      <th>2</th>\n",
       "      <td>2</td>\n",
       "      <td>102781</td>\n",
       "      <td>2013-02-27 02:00:00</td>\n",
       "      <td>15022.264079</td>\n",
       "      <td>18.00</td>\n",
       "    </tr>\n",
       "    <tr>\n",
       "      <th>3</th>\n",
       "      <td>3</td>\n",
       "      <td>102781</td>\n",
       "      <td>2013-02-27 03:00:00</td>\n",
       "      <td>15370.420458</td>\n",
       "      <td>17.00</td>\n",
       "    </tr>\n",
       "    <tr>\n",
       "      <th>4</th>\n",
       "      <td>4</td>\n",
       "      <td>102781</td>\n",
       "      <td>2013-02-27 04:00:00</td>\n",
       "      <td>15303.103213</td>\n",
       "      <td>16.90</td>\n",
       "    </tr>\n",
       "    <tr>\n",
       "      <th>5</th>\n",
       "      <td>5</td>\n",
       "      <td>102781</td>\n",
       "      <td>2013-02-27 05:00:00</td>\n",
       "      <td>14553.147024</td>\n",
       "      <td>17.00</td>\n",
       "    </tr>\n",
       "    <tr>\n",
       "      <th>6</th>\n",
       "      <td>6</td>\n",
       "      <td>102781</td>\n",
       "      <td>2013-02-27 06:00:00</td>\n",
       "      <td>40747.970202</td>\n",
       "      <td>17.00</td>\n",
       "    </tr>\n",
       "    <tr>\n",
       "      <th>7</th>\n",
       "      <td>7</td>\n",
       "      <td>102781</td>\n",
       "      <td>2013-02-27 07:00:00</td>\n",
       "      <td>91624.030364</td>\n",
       "      <td>16.90</td>\n",
       "    </tr>\n",
       "    <tr>\n",
       "      <th>8</th>\n",
       "      <td>8</td>\n",
       "      <td>102781</td>\n",
       "      <td>2013-02-27 08:00:00</td>\n",
       "      <td>99778.883564</td>\n",
       "      <td>17.00</td>\n",
       "    </tr>\n",
       "    <tr>\n",
       "      <th>9</th>\n",
       "      <td>9</td>\n",
       "      <td>102781</td>\n",
       "      <td>2013-02-27 09:00:00</td>\n",
       "      <td>104295.450008</td>\n",
       "      <td>19.00</td>\n",
       "    </tr>\n",
       "    <tr>\n",
       "      <th>10</th>\n",
       "      <td>10</td>\n",
       "      <td>102781</td>\n",
       "      <td>2013-02-27 10:00:00</td>\n",
       "      <td>109748.146899</td>\n",
       "      <td>21.05</td>\n",
       "    </tr>\n",
       "    <tr>\n",
       "      <th>11</th>\n",
       "      <td>11</td>\n",
       "      <td>102781</td>\n",
       "      <td>2013-02-27 11:00:00</td>\n",
       "      <td>108301.877951</td>\n",
       "      <td>21.00</td>\n",
       "    </tr>\n",
       "    <tr>\n",
       "      <th>12</th>\n",
       "      <td>12</td>\n",
       "      <td>102781</td>\n",
       "      <td>2013-02-27 12:00:00</td>\n",
       "      <td>110916.732208</td>\n",
       "      <td>23.00</td>\n",
       "    </tr>\n",
       "    <tr>\n",
       "      <th>13</th>\n",
       "      <td>13</td>\n",
       "      <td>102781</td>\n",
       "      <td>2013-02-27 13:00:00</td>\n",
       "      <td>108521.710831</td>\n",
       "      <td>24.10</td>\n",
       "    </tr>\n",
       "    <tr>\n",
       "      <th>14</th>\n",
       "      <td>14</td>\n",
       "      <td>102781</td>\n",
       "      <td>2013-02-27 14:00:00</td>\n",
       "      <td>106486.415985</td>\n",
       "      <td>25.00</td>\n",
       "    </tr>\n",
       "    <tr>\n",
       "      <th>15</th>\n",
       "      <td>15</td>\n",
       "      <td>102781</td>\n",
       "      <td>2013-02-27 15:00:00</td>\n",
       "      <td>105664.935223</td>\n",
       "      <td>25.00</td>\n",
       "    </tr>\n",
       "    <tr>\n",
       "      <th>16</th>\n",
       "      <td>16</td>\n",
       "      <td>102781</td>\n",
       "      <td>2013-02-27 16:00:00</td>\n",
       "      <td>105741.718956</td>\n",
       "      <td>24.20</td>\n",
       "    </tr>\n",
       "    <tr>\n",
       "      <th>17</th>\n",
       "      <td>17</td>\n",
       "      <td>102781</td>\n",
       "      <td>2013-02-27 17:00:00</td>\n",
       "      <td>88365.454946</td>\n",
       "      <td>23.00</td>\n",
       "    </tr>\n",
       "    <tr>\n",
       "      <th>18</th>\n",
       "      <td>18</td>\n",
       "      <td>102781</td>\n",
       "      <td>2013-02-27 18:00:00</td>\n",
       "      <td>70688.366996</td>\n",
       "      <td>24.00</td>\n",
       "    </tr>\n",
       "    <tr>\n",
       "      <th>19</th>\n",
       "      <td>19</td>\n",
       "      <td>102781</td>\n",
       "      <td>2013-02-27 19:00:00</td>\n",
       "      <td>24803.249492</td>\n",
       "      <td>21.70</td>\n",
       "    </tr>\n",
       "    <tr>\n",
       "      <th>20</th>\n",
       "      <td>20</td>\n",
       "      <td>102781</td>\n",
       "      <td>2013-02-27 20:00:00</td>\n",
       "      <td>18551.160311</td>\n",
       "      <td>21.00</td>\n",
       "    </tr>\n",
       "    <tr>\n",
       "      <th>21</th>\n",
       "      <td>21</td>\n",
       "      <td>102781</td>\n",
       "      <td>2013-02-27 21:00:00</td>\n",
       "      <td>14275.463386</td>\n",
       "      <td>19.00</td>\n",
       "    </tr>\n",
       "    <tr>\n",
       "      <th>22</th>\n",
       "      <td>22</td>\n",
       "      <td>102781</td>\n",
       "      <td>2013-02-27 22:00:00</td>\n",
       "      <td>13638.053217</td>\n",
       "      <td>18.20</td>\n",
       "    </tr>\n",
       "    <tr>\n",
       "      <th>23</th>\n",
       "      <td>23</td>\n",
       "      <td>102781</td>\n",
       "      <td>2013-02-27 23:00:00</td>\n",
       "      <td>12617.776214</td>\n",
       "      <td>19.00</td>\n",
       "    </tr>\n",
       "    <tr>\n",
       "      <th>24</th>\n",
       "      <td>24</td>\n",
       "      <td>102781</td>\n",
       "      <td>2013-02-28 00:00:00</td>\n",
       "      <td>15790.101411</td>\n",
       "      <td>19.00</td>\n",
       "    </tr>\n",
       "  </tbody>\n",
       "</table>\n",
       "</div>"
      ],
      "text/plain": [
       "    Unnamed: 0  series_id            timestamp    consumption  temperature\n",
       "0            0     102781  2013-02-27 00:00:00   15295.740389        17.00\n",
       "1            1     102781  2013-02-27 01:00:00   15163.209562        18.25\n",
       "2            2     102781  2013-02-27 02:00:00   15022.264079        18.00\n",
       "3            3     102781  2013-02-27 03:00:00   15370.420458        17.00\n",
       "4            4     102781  2013-02-27 04:00:00   15303.103213        16.90\n",
       "5            5     102781  2013-02-27 05:00:00   14553.147024        17.00\n",
       "6            6     102781  2013-02-27 06:00:00   40747.970202        17.00\n",
       "7            7     102781  2013-02-27 07:00:00   91624.030364        16.90\n",
       "8            8     102781  2013-02-27 08:00:00   99778.883564        17.00\n",
       "9            9     102781  2013-02-27 09:00:00  104295.450008        19.00\n",
       "10          10     102781  2013-02-27 10:00:00  109748.146899        21.05\n",
       "11          11     102781  2013-02-27 11:00:00  108301.877951        21.00\n",
       "12          12     102781  2013-02-27 12:00:00  110916.732208        23.00\n",
       "13          13     102781  2013-02-27 13:00:00  108521.710831        24.10\n",
       "14          14     102781  2013-02-27 14:00:00  106486.415985        25.00\n",
       "15          15     102781  2013-02-27 15:00:00  105664.935223        25.00\n",
       "16          16     102781  2013-02-27 16:00:00  105741.718956        24.20\n",
       "17          17     102781  2013-02-27 17:00:00   88365.454946        23.00\n",
       "18          18     102781  2013-02-27 18:00:00   70688.366996        24.00\n",
       "19          19     102781  2013-02-27 19:00:00   24803.249492        21.70\n",
       "20          20     102781  2013-02-27 20:00:00   18551.160311        21.00\n",
       "21          21     102781  2013-02-27 21:00:00   14275.463386        19.00\n",
       "22          22     102781  2013-02-27 22:00:00   13638.053217        18.20\n",
       "23          23     102781  2013-02-27 23:00:00   12617.776214        19.00\n",
       "24          24     102781  2013-02-28 00:00:00   15790.101411        19.00"
      ]
     },
     "execution_count": 30,
     "metadata": {},
     "output_type": "execute_result"
    }
   ],
   "source": [
    "test.head(25)"
   ]
  },
  {
   "cell_type": "markdown",
   "metadata": {},
   "source": [
    "### Applying the same transformations to the test dataframe"
   ]
  },
  {
   "cell_type": "code",
   "execution_count": 31,
   "metadata": {},
   "outputs": [],
   "source": [
    "test['timestamp'] = pd.to_datetime(test['timestamp'])"
   ]
  },
  {
   "cell_type": "code",
   "execution_count": 32,
   "metadata": {},
   "outputs": [],
   "source": [
    "test_dt = (test.groupby(['series_id'],sort=False).min()['timestamp']).to_dict()"
   ]
  },
  {
   "cell_type": "code",
   "execution_count": 33,
   "metadata": {},
   "outputs": [],
   "source": [
    "def func(x):\n",
    "    return (x['timestamp']-test_dt[x['series_id']]).total_seconds()/3600\n",
    "    \n",
    "test['hour2'] = test.apply(lambda x: func(x),axis=1)"
   ]
  },
  {
   "cell_type": "code",
   "execution_count": 34,
   "metadata": {},
   "outputs": [],
   "source": [
    "dft = pd.merge(test,meta,on='series_id')"
   ]
  },
  {
   "cell_type": "code",
   "execution_count": 35,
   "metadata": {},
   "outputs": [
    {
     "name": "stdout",
     "output_type": "stream",
     "text": [
      "<class 'pandas.core.frame.DataFrame'>\n",
      "Int64Index: 111984 entries, 0 to 111983\n",
      "Data columns (total 15 columns):\n",
      "Unnamed: 0              111984 non-null int64\n",
      "series_id               111984 non-null int64\n",
      "timestamp               111984 non-null datetime64[ns]\n",
      "consumption             111984 non-null float64\n",
      "temperature             67068 non-null float64\n",
      "hour2                   111984 non-null float64\n",
      "surface                 111984 non-null object\n",
      "base_temperature        111984 non-null object\n",
      "monday_is_day_off       111984 non-null bool\n",
      "tuesday_is_day_off      111984 non-null bool\n",
      "wednesday_is_day_off    111984 non-null bool\n",
      "thursday_is_day_off     111984 non-null bool\n",
      "friday_is_day_off       111984 non-null bool\n",
      "saturday_is_day_off     111984 non-null bool\n",
      "sunday_is_day_off       111984 non-null bool\n",
      "dtypes: bool(7), datetime64[ns](1), float64(3), int64(2), object(2)\n",
      "memory usage: 8.4+ MB\n"
     ]
    }
   ],
   "source": [
    "dft.info()"
   ]
  },
  {
   "cell_type": "code",
   "execution_count": 36,
   "metadata": {},
   "outputs": [],
   "source": [
    "dft['base_temperature'] = dft['base_temperature'].replace(['low','high'],[0,1])"
   ]
  },
  {
   "cell_type": "code",
   "execution_count": 37,
   "metadata": {},
   "outputs": [],
   "source": [
    "dft0 = dft[dft['base_temperature']==0]\n",
    "dft1 = dft[dft['base_temperature']==1]\n",
    "\n",
    "base0 = dft0['temperature'].median()\n",
    "base1 = dft1['temperature'].median()\n",
    "\n",
    "def filltemp(x):\n",
    "    if pd.isnull(x['temperature']):\n",
    "        if x['base_temperature'] == 0:\n",
    "            x['temperature'] = base0\n",
    "        else:\n",
    "            x['temperature'] = base1\n",
    "    return x\n",
    "\n",
    "dft = dft.apply(lambda x: filltemp(x), axis=1)"
   ]
  },
  {
   "cell_type": "code",
   "execution_count": 38,
   "metadata": {},
   "outputs": [
    {
     "data": {
      "text/plain": [
       "x-large     28608\n",
       "x-small     27840\n",
       "medium      14304\n",
       "small       11856\n",
       "large       10848\n",
       "xx-small     9504\n",
       "xx-large     9024\n",
       "Name: surface, dtype: int64"
      ]
     },
     "execution_count": 38,
     "metadata": {},
     "output_type": "execute_result"
    }
   ],
   "source": [
    "dft['surface'].value_counts()"
   ]
  },
  {
   "cell_type": "code",
   "execution_count": 39,
   "metadata": {},
   "outputs": [],
   "source": [
    "dft['surface'] = dft['surface'].replace(['xx-large','x-large','large','medium','small','x-small','xx-small'],[6,5,4,3,2,1,0])"
   ]
  },
  {
   "cell_type": "code",
   "execution_count": 40,
   "metadata": {},
   "outputs": [],
   "source": [
    "dft['hour'] = dft['timestamp'].dt.hour\n",
    "dft['year'] = dft['timestamp'].dt.year\n",
    "dft['month'] = dft['timestamp'].dt.month\n",
    "dft['day'] = dft['timestamp'].dt.day"
   ]
  },
  {
   "cell_type": "code",
   "execution_count": 41,
   "metadata": {},
   "outputs": [
    {
     "data": {
      "text/plain": [
       "hourly    5808\n",
       "daily     1337\n",
       "weekly     384\n",
       "Name: prediction_window, dtype: int64"
      ]
     },
     "execution_count": 41,
     "metadata": {},
     "output_type": "execute_result"
    }
   ],
   "source": [
    "sub['prediction_window'].value_counts()"
   ]
  },
  {
   "cell_type": "code",
   "execution_count": 42,
   "metadata": {},
   "outputs": [
    {
     "data": {
      "text/plain": [
       "3032.0"
      ]
     },
     "execution_count": 42,
     "metadata": {},
     "output_type": "execute_result"
    }
   ],
   "source": [
    "df.shape[0]/168"
   ]
  },
  {
   "cell_type": "code",
   "execution_count": 43,
   "metadata": {},
   "outputs": [],
   "source": [
    "#df = df[cols]\n",
    "#dft = df[cols]"
   ]
  },
  {
   "cell_type": "code",
   "execution_count": 44,
   "metadata": {},
   "outputs": [
    {
     "data": {
      "text/plain": [
       "pandas.core.frame.DataFrame"
      ]
     },
     "execution_count": 44,
     "metadata": {},
     "output_type": "execute_result"
    }
   ],
   "source": [
    "type(df)"
   ]
  },
  {
   "cell_type": "code",
   "execution_count": 45,
   "metadata": {},
   "outputs": [],
   "source": [
    "def create_lagged_features(df, lag=1):\n",
    "    if not type(df) == pd.DataFrame:\n",
    "        df = pd.DataFrame(df, columns=['consumption'])\n",
    "    \n",
    "    def _rename_lag(ser, j):\n",
    "        ser.name = ser.name + f'_{j}'\n",
    "        return ser\n",
    "    \n",
    "    for i in range(1, lag + 1):\n",
    "        df = df.join(df.consumption.shift(i).pipe(_rename_lag, i))\n",
    "\n",
    "    df.dropna(inplace=True)\n",
    "    return df"
   ]
  },
  {
   "cell_type": "code",
   "execution_count": 46,
   "metadata": {},
   "outputs": [],
   "source": [
    "cols = df.columns\n",
    "cols = cols.drop('timestamp')"
   ]
  },
  {
   "cell_type": "code",
   "execution_count": 47,
   "metadata": {},
   "outputs": [
    {
     "name": "stderr",
     "output_type": "stream",
     "text": [
      "/Users/yadushyadav/anaconda3/lib/python3.6/site-packages/h5py/__init__.py:36: FutureWarning: Conversion of the second argument of issubdtype from `float` to `np.floating` is deprecated. In future, it will be treated as `np.float64 == np.dtype(float).type`.\n",
      "  from ._conv import register_converters as _register_converters\n",
      "Using TensorFlow backend.\n"
     ]
    }
   ],
   "source": [
    "from keras.models import Sequential\n",
    "from keras.layers import Dense, LSTM\n",
    "from tqdm import tqdm"
   ]
  },
  {
   "cell_type": "code",
   "execution_count": 48,
   "metadata": {},
   "outputs": [
    {
     "name": "stdout",
     "output_type": "stream",
     "text": [
      "(111979, 1, 5)\n",
      "(111979,)\n",
      "MinMaxScaler(copy=True, feature_range=(-1, 1))\n"
     ]
    }
   ],
   "source": [
    "from sklearn.preprocessing import MinMaxScaler\n",
    "\n",
    "def prepare_training_data(consumption, lag):\n",
    "    \n",
    "    scaler = MinMaxScaler(feature_range=(-1, 1))\n",
    "    consumption_vals = scaler.fit_transform(consumption.values.reshape(-1, 1))\n",
    "    consumption_lagged = create_lagged_features(consumption_vals, lag=lag)\n",
    "\n",
    "    X = consumption_lagged.drop('consumption', axis=1).values\n",
    "    y = consumption_lagged.consumption.values\n",
    "\n",
    "    X = X.reshape(X.shape[0], 1, X.shape[1])\n",
    "    \n",
    "    return X, y, scaler\n",
    "\n",
    "X, y, scaler = prepare_training_data(dft.consumption, 5)\n",
    "print(X.shape)\n",
    "print(y.shape)\n",
    "print(scaler)"
   ]
  },
  {
   "cell_type": "code",
   "execution_count": 49,
   "metadata": {},
   "outputs": [],
   "source": [
    "model = Sequential()\n",
    "model.add(LSTM(24, batch_input_shape=(1,1,24),stateful=True))\n",
    "model.add(Dense(1))\n",
    "model.compile(loss='mean_absolute_error', optimizer='adam')"
   ]
  },
  {
   "cell_type": "code",
   "execution_count": 50,
   "metadata": {},
   "outputs": [],
   "source": [
    "num_training_series = df.series_id.nunique()\n",
    "\n",
    "for ser_id, ser_data in df.groupby('series_id'):\n",
    "    X, y, scaler = prepare_training_data(ser_data.consumption, 24)\n",
    "    model.fit(X, y, epochs=1, batch_size=1, verbose=0, shuffle=False)\n",
    "    model.reset_states()"
   ]
  },
  {
   "cell_type": "code",
   "execution_count": 51,
   "metadata": {},
   "outputs": [],
   "source": [
    "def generate_hourly_forecast(num_pred_hours, consumption, model, scaler, lag):\n",
    "    \n",
    "    preds_scaled = np.zeros(num_pred_hours)\n",
    "    X = scaler.transform(consumption.values.reshape(-1, 1))[-lag:]\n",
    "\n",
    "    for i in range(num_pred_hours):\n",
    "        yhat = model.predict(X.reshape(1, 1, lag), batch_size=1)[0][0]\n",
    "        preds_scaled[i] = yhat\n",
    "        \n",
    "        X = pd.Series(X.ravel()).shift(-1).fillna(yhat).values\n",
    "\n",
    "    hourly_preds = scaler.inverse_transform(preds_scaled.reshape(-1, 1)).ravel()\n",
    "    return hourly_preds"
   ]
  },
  {
   "cell_type": "code",
   "execution_count": 52,
   "metadata": {},
   "outputs": [
    {
     "name": "stderr",
     "output_type": "stream",
     "text": [
      "Forecasting from Cold Start Data: 100%|██████████| 625/625 [04:34<00:00,  2.17it/s]"
     ]
    },
    {
     "name": "stdout",
     "output_type": "stream",
     "text": [
      "CPU times: user 7min 34s, sys: 1min 48s, total: 9min 23s\n",
      "Wall time: 4min 34s\n"
     ]
    },
    {
     "name": "stderr",
     "output_type": "stream",
     "text": [
      "\n"
     ]
    }
   ],
   "source": [
    "%%time\n",
    "pw_numpred = {'hourly': 24, 'daily': 7, 'weekly': 2}\n",
    "pw_numpredhours = {'hourly': 24, 'daily': 7 * 24, 'weekly': 2 * 7 * 24}\n",
    "\n",
    "sub = pd.read_csv('/Users/yadushyadav/downloads/submission_format.csv')\n",
    "final = sub.copy()\n",
    "num_test_series = final['series_id'].nunique()\n",
    "lag = 24\n",
    "\n",
    "model.reset_states()\n",
    "\n",
    "for serid, pred_df in tqdm(final.groupby('series_id'), total=num_test_series, desc=\"Forecasting from Cold Start Data\"):\n",
    "        \n",
    "    pred_window = pred_df.prediction_window.unique()[0]\n",
    "    numpred = pw_numpred[pred_window]\n",
    "    numpredhours = pw_numpredhours[pred_window]\n",
    "    \n",
    "    seriesdata = dft[dft['series_id'] == serid].consumption\n",
    "    cold_X, cold_y, scaler = prepare_training_data(seriesdata, lag)\n",
    "    \n",
    "    model.fit(cold_X, cold_y, epochs=1, batch_size=1, verbose=0, shuffle=False)\n",
    "    \n",
    "    preds = generate_hourly_forecast(numpredhours, seriesdata, model, scaler, lag)\n",
    "    \n",
    "    reducedpreds = [pred.sum() for pred in np.split(preds, numpred)]\n",
    "    \n",
    "    serid_mask = final.series_id == serid\n",
    "    final.loc[serid_mask, 'consumption'] = reducedpreds"
   ]
  },
  {
   "cell_type": "code",
   "execution_count": 53,
   "metadata": {},
   "outputs": [],
   "source": [
    "final.to_csv('/Users/yadushyadav/Downloads/powersublstm.csv',index=False)"
   ]
  }
 ],
 "metadata": {
  "kernelspec": {
   "display_name": "Python 3",
   "language": "python",
   "name": "python3"
  },
  "language_info": {
   "codemirror_mode": {
    "name": "ipython",
    "version": 3
   },
   "file_extension": ".py",
   "mimetype": "text/x-python",
   "name": "python",
   "nbconvert_exporter": "python",
   "pygments_lexer": "ipython3",
   "version": "3.6.5"
  }
 },
 "nbformat": 4,
 "nbformat_minor": 2
}
